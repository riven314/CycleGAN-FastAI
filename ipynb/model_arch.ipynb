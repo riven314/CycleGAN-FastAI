{
 "cells": [
  {
   "cell_type": "markdown",
   "metadata": {},
   "source": [
    "#### QUESTIONS\n",
    "1. What is padding, output_padding in nn.ConvTranspose2d?\n",
    "2. What is ReflectionPad2d v.s. ReplicationPad2d?"
   ]
  },
  {
   "cell_type": "code",
   "execution_count": 1,
   "metadata": {},
   "outputs": [],
   "source": [
    "import os\n",
    "import sys\n",
    "\n",
    "import numpy as np\n",
    "import matplotlib.pyplot as plt\n",
    "\n",
    "import torch\n",
    "import torch.nn as nn\n",
    "from fastai.vision import *\n",
    "\n",
    "%matplotlib inline\n",
    "%load_ext autoreload\n",
    "%autoreload 2"
   ]
  },
  {
   "cell_type": "code",
   "execution_count": 2,
   "metadata": {},
   "outputs": [],
   "source": [
    "def conv_t_norm_relu(ch_in, ch_out, norm_layer, ks = 3, stride = 2, bias = True):\n",
    "    conv_t = nn.ConvTranspose2d(ch_in, ch_out, kernel_size = ks, stride = stride, \n",
    "                                padding = 1, output_padding = 1, bias = bias)\n",
    "    return [conv_t, norm_layer(ch_out), nn.ReLU(True)]"
   ]
  },
  {
   "cell_type": "code",
   "execution_count": 3,
   "metadata": {},
   "outputs": [],
   "source": [
    "def pad_conv_norm_relu(ch_in, ch_out, pad_mode, norm_layer, ks = 3, bias = True,\n",
    "                        pad = 1, stride = 1, activ = True, init = nn.init.kaiming_normal_):\n",
    "    layers = []\n",
    "    if pad_mode == 'reflection':\n",
    "        layers.append(nn.ReflectionPad2d(pad))\n",
    "    elif pad_mode == 'border':\n",
    "        layers.append(nn.ReplicationPad2d(pad))\n",
    "    p = pad if pad_mode == 'zeros' else 0\n",
    "    conv = nn.Conv2d(ch_in, ch_out, kernel_size = 3, padding = p, stride = stride, bias = bias)\n",
    "    if init:\n",
    "        init(conv.weight)\n",
    "        if hasattr(conv, 'bias') and hasattr(conv.bias, 'data'): conv.bias.data.fill_(0.)\n",
    "    layers += [conv, norm_layer(ch_out)]\n",
    "    if activ: layers.append(nn.ReLU(True))\n",
    "    return layers"
   ]
  },
  {
   "cell_type": "code",
   "execution_count": 4,
   "metadata": {},
   "outputs": [
    {
     "data": {
      "text/plain": [
       "[ReflectionPad2d((1, 1, 1, 1)),\n",
       " Conv2d(1, 3, kernel_size=(3, 3), stride=(1, 1)),\n",
       " InstanceNorm2d(3, eps=1e-05, momentum=0.1, affine=False, track_running_stats=False),\n",
       " ReLU(inplace=True)]"
      ]
     },
     "execution_count": 4,
     "metadata": {},
     "output_type": "execute_result"
    }
   ],
   "source": [
    "pad_conv_norm_relu(1, 3, 'reflection', nn.InstanceNorm2d)"
   ]
  },
  {
   "cell_type": "code",
   "execution_count": null,
   "metadata": {},
   "outputs": [],
   "source": []
  }
 ],
 "metadata": {
  "kernelspec": {
   "display_name": "Python 3",
   "language": "python",
   "name": "python3"
  },
  "language_info": {
   "codemirror_mode": {
    "name": "ipython",
    "version": 3
   },
   "file_extension": ".py",
   "mimetype": "text/x-python",
   "name": "python",
   "nbconvert_exporter": "python",
   "pygments_lexer": "ipython3",
   "version": "3.6.10"
  }
 },
 "nbformat": 4,
 "nbformat_minor": 2
}
