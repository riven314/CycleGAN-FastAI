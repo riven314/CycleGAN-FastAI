{
 "cells": [
  {
   "cell_type": "code",
   "execution_count": 1,
   "metadata": {},
   "outputs": [],
   "source": [
    "import os\n",
    "import sys\n",
    "from pathlib import Path\n",
    "PATH = os.path.join(os.getcwd(), '..', '..')\n",
    "sys.path.append(PATH)\n",
    "\n",
    "import torch\n",
    "import numpy as np\n",
    "import matplotlib.pyplot as plt\n",
    "\n",
    "from fastai.vision import *\n",
    "\n",
    "from src.model_utils.cyclegan import CycleGAN\n",
    "from src.model_utils.databunch import ImageTupleList\n",
    "from src.model_utils.callbacks import CycleGANTrainer\n",
    "from src.model_utils.loss import CycleGanLoss\n",
    "\n",
    "%load_ext autoreload\n",
    "%autoreload 2"
   ]
  },
  {
   "cell_type": "code",
   "execution_count": 2,
   "metadata": {},
   "outputs": [],
   "source": [
    "import os\n",
    "from pathlib import Path\n",
    "data_dir = Path('../../data/test')"
   ]
  },
  {
   "cell_type": "code",
   "execution_count": 3,
   "metadata": {},
   "outputs": [],
   "source": [
    "data = (ImageTupleList.from_folders(data_dir, 'trainA', 'trainB')\n",
    "                          .split_none()\n",
    "                          .label_empty()\n",
    "                          .transform(get_transforms(), size = 56)\n",
    "                          .databunch(bs = 4))\n",
    "cycle_gan = CycleGAN(ch_in = 3, ch_out = 3, \n",
    "                     disc_layers = 3, \n",
    "                     gen_blocks = 5)\n",
    "\n",
    "cb = partial(CycleGANTrainer, base_dir = data_dir, name = 'v1', \n",
    "        loss_iters = 1, hist_iters = 1, stats_iters = 1\n",
    "        )\n",
    "learn = Learner(data, cycle_gan, \n",
    "                loss_func = CycleGanLoss(cycle_gan), \n",
    "                opt_func = partial(optim.Adam, betas = (0.5, 0.99)),\n",
    "                callback_fns = [cb])"
   ]
  },
  {
   "cell_type": "code",
   "execution_count": 4,
   "metadata": {
    "scrolled": true
   },
   "outputs": [
    {
     "data": {
      "text/html": [
       "<table border=\"1\" class=\"dataframe\">\n",
       "  <thead>\n",
       "    <tr style=\"text-align: left;\">\n",
       "      <th>epoch</th>\n",
       "      <th>train_loss</th>\n",
       "      <th>valid_loss</th>\n",
       "      <th>id_loss</th>\n",
       "      <th>gen_loss</th>\n",
       "      <th>cyc_loss</th>\n",
       "      <th>D_A_loss</th>\n",
       "      <th>D_B_loss</th>\n",
       "      <th>time</th>\n",
       "    </tr>\n",
       "  </thead>\n",
       "  <tbody>\n",
       "    <tr>\n",
       "      <td>0</td>\n",
       "      <td>90.647552</td>\n",
       "      <td>#na#</td>\n",
       "      <td>5.653946</td>\n",
       "      <td>73.856407</td>\n",
       "      <td>11.137193</td>\n",
       "      <td>45.344627</td>\n",
       "      <td>44.382557</td>\n",
       "      <td>00:18</td>\n",
       "    </tr>\n",
       "    <tr>\n",
       "      <td>1</td>\n",
       "      <td>51.264446</td>\n",
       "      <td>#na#</td>\n",
       "      <td>3.328078</td>\n",
       "      <td>41.362320</td>\n",
       "      <td>6.574048</td>\n",
       "      <td>24.417418</td>\n",
       "      <td>23.691004</td>\n",
       "      <td>00:04</td>\n",
       "    </tr>\n",
       "    <tr>\n",
       "      <td>2</td>\n",
       "      <td>35.517036</td>\n",
       "      <td>#na#</td>\n",
       "      <td>2.539326</td>\n",
       "      <td>27.952438</td>\n",
       "      <td>5.025276</td>\n",
       "      <td>16.343842</td>\n",
       "      <td>15.888865</td>\n",
       "      <td>00:07</td>\n",
       "    </tr>\n",
       "    <tr>\n",
       "      <td>3</td>\n",
       "      <td>27.248146</td>\n",
       "      <td>#na#</td>\n",
       "      <td>2.157677</td>\n",
       "      <td>20.814161</td>\n",
       "      <td>4.276309</td>\n",
       "      <td>12.111814</td>\n",
       "      <td>11.767800</td>\n",
       "      <td>00:03</td>\n",
       "    </tr>\n",
       "    <tr>\n",
       "      <td>4</td>\n",
       "      <td>22.433125</td>\n",
       "      <td>#na#</td>\n",
       "      <td>1.931501</td>\n",
       "      <td>16.669149</td>\n",
       "      <td>3.832477</td>\n",
       "      <td>9.537276</td>\n",
       "      <td>9.268929</td>\n",
       "      <td>00:03</td>\n",
       "    </tr>\n",
       "  </tbody>\n",
       "</table>"
      ],
      "text/plain": [
       "<IPython.core.display.HTML object>"
      ]
     },
     "metadata": {},
     "output_type": "display_data"
    },
    {
     "name": "stdout",
     "output_type": "stream",
     "text": [
      "> /userhome/34/h3509807/fastai/CycleGAN-MultiMNIST/src/model_utils/callbacks.py(166)on_epoch_end()\n",
      "-> return add_metrics(last_metrics, [\n",
      "(Pdb) continue\n",
      "> /userhome/34/h3509807/fastai/CycleGAN-MultiMNIST/src/model_utils/callbacks.py(166)on_epoch_end()\n",
      "-> s.smooth for s in [self.id_smter, self.gen_smter, self.cyc_smter, self.da_smter,self.db_smter]\n",
      "(Pdb) continue\n",
      "> /userhome/34/h3509807/fastai/CycleGAN-MultiMNIST/src/model_utils/callbacks.py(166)on_epoch_end()\n",
      "-> s.smooth for s in [self.id_smter, self.gen_smter, self.cyc_smter, self.da_smter,self.db_smter]\n",
      "(Pdb) continue\n",
      "> /userhome/34/h3509807/fastai/CycleGAN-MultiMNIST/src/model_utils/callbacks.py(166)on_epoch_end()\n",
      "-> s.smooth for s in [self.id_smter, self.gen_smter, self.cyc_smter, self.da_smter,self.db_smter]\n",
      "(Pdb) continue\n",
      "> /userhome/34/h3509807/fastai/CycleGAN-MultiMNIST/src/model_utils/callbacks.py(166)on_epoch_end()\n",
      "-> s.smooth for s in [self.id_smter, self.gen_smter, self.cyc_smter, self.da_smter,self.db_smter]\n",
      "(Pdb) continue\n"
     ]
    }
   ],
   "source": [
    "learn.fit(5)"
   ]
  },
  {
   "cell_type": "code",
   "execution_count": null,
   "metadata": {},
   "outputs": [],
   "source": []
  }
 ],
 "metadata": {
  "kernelspec": {
   "display_name": "Python 3",
   "language": "python",
   "name": "python3"
  },
  "language_info": {
   "codemirror_mode": {
    "name": "ipython",
    "version": 3
   },
   "file_extension": ".py",
   "mimetype": "text/x-python",
   "name": "python",
   "nbconvert_exporter": "python",
   "pygments_lexer": "ipython3",
   "version": "3.6.10"
  }
 },
 "nbformat": 4,
 "nbformat_minor": 2
}
